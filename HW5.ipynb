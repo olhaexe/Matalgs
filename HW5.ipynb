{
 "cells": [
  {
   "cell_type": "markdown",
   "metadata": {},
   "source": [
    " 1. Сформировать с помощью sklearn.make_classification датасет из 100 объектов с двумя признаками, обучить случайный лес из 1, 3, 10 и 50 деревьев и визуализировать их разделяющие гиперплоскости на графиках (по подобию визуализации деревьев из предыдущего урока, необходимо только заменить вызов функции predict на tree_vote)."
   ]
  },
  {
   "cell_type": "code",
   "execution_count": 1,
   "metadata": {},
   "outputs": [],
   "source": [
    "import matplotlib.pyplot as plt\n",
    "import matplotlib\n",
    "%matplotlib inline\n",
    "import random\n",
    "\n",
    "\n",
    "from matplotlib.colors import ListedColormap\n",
    "from sklearn import datasets\n",
    "\n",
    "import numpy as np"
   ]
  },
  {
   "cell_type": "code",
   "execution_count": 2,
   "metadata": {},
   "outputs": [],
   "source": [
    "# сгенерируем данные, представляющие собой 100 объектов с двумя признаками\n",
    "classification_data, classification_labels = datasets.make_classification(n_samples=100,\n",
    "                                                      n_features = 2, n_informative = 2, \n",
    "                                                      n_classes = 2, n_redundant=0, \n",
    "                                                      n_clusters_per_class=1, random_state=123)"
   ]
  },
  {
   "cell_type": "code",
   "execution_count": 3,
   "metadata": {},
   "outputs": [
    {
     "data": {
      "text/plain": [
       "<matplotlib.collections.PathCollection at 0x2141270bc48>"
      ]
     },
     "execution_count": 3,
     "metadata": {},
     "output_type": "execute_result"
    },
    {
     "data": {
      "image/png": "[encoded data removed]",
      "text/plain": [
       "<Figure size 360x360 with 1 Axes>"
      ]
     },
     "metadata": {
      "needs_background": "light"
     },
     "output_type": "display_data"
    }
   ],
   "source": [
    "# визуализируем сгенерированные данные\n",
    "colors = ListedColormap(['red', 'blue'])\n",
    "light_colors = ListedColormap(['lightcoral', 'lightblue'])\n",
    "\n",
    "plt.figure(figsize=(5,5))\n",
    "plt.scatter(list(map(lambda x: x[0], classification_data)), list(map(lambda x: x[1], classification_data)), \n",
    "              c=classification_labels, cmap=colors)"
   ]
  },
  {
   "cell_type": "code",
   "execution_count": 4,
   "metadata": {},
   "outputs": [],
   "source": [
    "random.seed(42)\n",
    "\n",
    "def get_bootstrap(data, labels, N):\n",
    "    n_samples = data.shape[0]\n",
    "    bootstrap = []\n",
    "    \n",
    "    for i in range(N):\n",
    "        b_data = np.zeros(data.shape)\n",
    "        b_labels = np.zeros(labels.shape)\n",
    "        \n",
    "        for j in range(n_samples):\n",
    "            sample_index = random.randint(0, n_samples-1)\n",
    "            b_data[j] = data[sample_index]\n",
    "            b_labels[j] = labels[sample_index]\n",
    "        bootstrap.append((b_data, b_labels))\n",
    "        \n",
    "    return bootstrap"
   ]
  },
  {
   "cell_type": "code",
   "execution_count": 5,
   "metadata": {},
   "outputs": [],
   "source": [
    "def get_subsample(len_sample):\n",
    "    # будем сохранять не сами признаки, а их индексы\n",
    "    sample_indexes = [i for i in range(len_sample)]\n",
    "    \n",
    "    len_subsample = int(np.sqrt(len_sample))\n",
    "    subsample = []\n",
    "    \n",
    "    random.shuffle(sample_indexes)\n",
    "    subsample = sample_indexes[0:len_subsample].copy()\n",
    "#     for _ in range(len_subsample):\n",
    "#         subsample.append(sample_indexes.pop())\n",
    "        \n",
    "    return subsample"
   ]
  },
  {
   "cell_type": "code",
   "execution_count": 6,
   "metadata": {},
   "outputs": [],
   "source": [
    "# Реализуем класс узла\n",
    "class Node:\n",
    "    \n",
    "    def __init__(self, index, t, true_branch, false_branch):\n",
    "        self.index = index  # индекс признака, по которому ведется сравнение с порогом в этом узле\n",
    "        self.t = t  # значение порога\n",
    "        self.true_branch = true_branch  # поддерево, удовлетворяющее условию в узле\n",
    "        self.false_branch = false_branch  # поддерево, не удовлетворяющее условию в узле"
   ]
  },
  {
   "cell_type": "code",
   "execution_count": 7,
   "metadata": {},
   "outputs": [],
   "source": [
    "# И класс терминального узла (листа)\n",
    "class Leaf:\n",
    "    \n",
    "    def __init__(self, data, labels):\n",
    "        self.data = data\n",
    "        self.labels = labels\n",
    "        self.prediction = self.predict()\n",
    "        \n",
    "    def predict(self):\n",
    "        # подсчет количества объектов разных классов\n",
    "        classes = {}  # сформируем словарь \"класс: количество объектов\"\n",
    "        for label in self.labels:\n",
    "            if label not in classes:\n",
    "                classes[label] = 0\n",
    "            classes[label] += 1\n",
    "        #  найдем класс, количество объектов которого будет максимальным в этом листе и вернем его    \n",
    "        prediction = max(classes, key=classes.get)\n",
    "        return prediction        "
   ]
  },
  {
   "cell_type": "code",
   "execution_count": 8,
   "metadata": {},
   "outputs": [],
   "source": [
    "# Расчет критерия Джини\n",
    "def gini(labels):\n",
    "    #  подсчет количества объектов разных классов\n",
    "    classes = {}\n",
    "    for label in labels:\n",
    "        if label not in classes:\n",
    "            classes[label] = 0\n",
    "        classes[label] += 1\n",
    "    \n",
    "    #  расчет критерия\n",
    "    impurity = 1\n",
    "    for label in classes:\n",
    "        p = classes[label] / len(labels)\n",
    "        impurity -= p ** 2\n",
    "        \n",
    "    return impurity"
   ]
  },
  {
   "cell_type": "code",
   "execution_count": 9,
   "metadata": {},
   "outputs": [],
   "source": [
    "# Расчет качества\n",
    "def quality(left_labels, right_labels, current_gini):\n",
    "\n",
    "    # доля выбоки, ушедшая в левое поддерево\n",
    "    p = float(left_labels.shape[0]) / (left_labels.shape[0] + right_labels.shape[0])\n",
    "    \n",
    "    return current_gini - p * gini(left_labels) - (1 - p) * gini(right_labels)"
   ]
  },
  {
   "cell_type": "code",
   "execution_count": 10,
   "metadata": {},
   "outputs": [],
   "source": [
    "# Разбиение датасета в узле\n",
    "def split(data, labels, index, t):\n",
    "    \n",
    "    left = np.where(data[:, index] <= t)\n",
    "    right = np.where(data[:, index] > t)\n",
    "        \n",
    "    true_data = data[left]\n",
    "    false_data = data[right]\n",
    "    true_labels = labels[left]\n",
    "    false_labels = labels[right]\n",
    "        \n",
    "    return true_data, false_data, true_labels, false_labels"
   ]
  },
  {
   "cell_type": "code",
   "execution_count": 11,
   "metadata": {},
   "outputs": [],
   "source": [
    "# Нахождение наилучшего разбиения\n",
    "def find_best_split(data, labels):\n",
    "    \n",
    "    #  обозначим минимальное количество объектов в узле\n",
    "    min_leaf = 5\n",
    "\n",
    "    current_gini = gini(labels)\n",
    "\n",
    "    best_quality = 0\n",
    "    best_t = None\n",
    "    best_index = None\n",
    "    \n",
    "    n_features = data.shape[1]\n",
    "    \n",
    "    # выбор индекса из подвыборки длиной sqrt(n_features)\n",
    "    subsample = get_subsample(n_features)\n",
    "    \n",
    "    for index in subsample:\n",
    "        t_values = [row[index] for row in data]\n",
    "        \n",
    "        for t in t_values:\n",
    "            true_data, false_data, true_labels, false_labels = split(data, labels, index, t)\n",
    "            #  пропускаем разбиения, в которых в узле остается менее 5 объектов\n",
    "            if len(true_data) < min_leaf or len(false_data) < min_leaf:\n",
    "                continue\n",
    "            \n",
    "            current_quality = quality(true_labels, false_labels, current_gini)\n",
    "            \n",
    "            #  выбираем порог, на котором получается максимальный прирост качества\n",
    "            if current_quality > best_quality:\n",
    "                best_quality, best_t, best_index = current_quality, t, index\n",
    "\n",
    "    return best_quality, best_t, best_index"
   ]
  },
  {
   "cell_type": "code",
   "execution_count": 12,
   "metadata": {},
   "outputs": [],
   "source": [
    "# Построение дерева с помощью рекурсивной функции\n",
    "def build_tree(data, labels):\n",
    "\n",
    "    quality, t, index = find_best_split(data, labels)\n",
    "\n",
    "    #  Базовый случай - прекращаем рекурсию, когда нет прироста в качества\n",
    "    if quality == 0:\n",
    "        return Leaf(data, labels)\n",
    "\n",
    "    true_data, false_data, true_labels, false_labels = split(data, labels, index, t)\n",
    "\n",
    "    # Рекурсивно строим два поддерева\n",
    "    true_branch = build_tree(true_data, true_labels)\n",
    "    false_branch = build_tree(false_data, false_labels)\n",
    "\n",
    "    # Возвращаем класс узла со всеми поддеревьями, то есть целого дерева\n",
    "    return Node(index, t, true_branch, false_branch)"
   ]
  },
  {
   "cell_type": "code",
   "execution_count": 13,
   "metadata": {},
   "outputs": [],
   "source": [
    "# формирование случайного леса:\n",
    "def random_forest(data, labels, n_trees):\n",
    "    forest = []\n",
    "    bootstrap = get_bootstrap(data, labels, n_trees)\n",
    "    \n",
    "    for b_data, b_labels in bootstrap:\n",
    "        forest.append(build_tree(b_data, b_labels))\n",
    "        \n",
    "    return forest"
   ]
  },
  {
   "cell_type": "code",
   "execution_count": 14,
   "metadata": {},
   "outputs": [],
   "source": [
    "# Функция классификации отдельного объекта\n",
    "def classify_object(obj, node):\n",
    "\n",
    "    #  Останавливаем рекурсию, если достигли листа\n",
    "    if isinstance(node, Leaf):\n",
    "        answer = node.prediction\n",
    "        return answer\n",
    "\n",
    "    if obj[node.index] <= node.t:\n",
    "        return classify_object(obj, node.true_branch)\n",
    "    else:\n",
    "        return classify_object(obj, node.false_branch)"
   ]
  },
  {
   "cell_type": "code",
   "execution_count": 15,
   "metadata": {},
   "outputs": [],
   "source": [
    "# функция формирования предсказания по выборке на одном дереве\n",
    "def predict(data, tree):\n",
    "    \n",
    "    classes = []\n",
    "    for obj in data:\n",
    "        prediction = classify_object(obj, tree)\n",
    "        classes.append(prediction)\n",
    "    return classes"
   ]
  },
  {
   "cell_type": "code",
   "execution_count": 16,
   "metadata": {},
   "outputs": [],
   "source": [
    "# предсказание голосованием деревьев\n",
    "def tree_vote(forest, data):\n",
    "\n",
    "    # добавим предсказания всех деревьев в список\n",
    "    predictions = []\n",
    "    for tree in forest:\n",
    "        predictions.append(predict(data, tree))\n",
    "    \n",
    "    # сформируем список с предсказаниями для каждого объекта\n",
    "    predictions_per_object = list(zip(*predictions))\n",
    "    \n",
    "    # выберем в качестве итогового предсказания для каждого объекта то,\n",
    "    # за которое проголосовало большинство деревьев\n",
    "    voted_predictions = []\n",
    "    for obj in predictions_per_object:\n",
    "        voted_predictions.append(max(set(obj), key=obj.count))\n",
    "        \n",
    "    return voted_predictions"
   ]
  },
  {
   "cell_type": "code",
   "execution_count": 17,
   "metadata": {},
   "outputs": [],
   "source": [
    "# Разобьем выборку на обучающую и тестовую\n",
    "from sklearn import model_selection\n",
    "\n",
    "train_data, test_data, train_labels, test_labels = model_selection.train_test_split(classification_data, \n",
    "                                                                                     classification_labels, \n",
    "                                                                                     test_size = 0.3,\n",
    "                                                                                     random_state = 1)"
   ]
  },
  {
   "cell_type": "code",
   "execution_count": 18,
   "metadata": {},
   "outputs": [],
   "source": [
    "# Введем функцию подсчета точности как доли правильных ответов\n",
    "def accuracy_metric(actual, predicted):\n",
    "    correct = 0\n",
    "    for i in range(len(actual)):\n",
    "        if actual[i] == predicted[i]:\n",
    "            correct += 1\n",
    "    return correct / float(len(actual)) * 100.0"
   ]
  },
  {
   "cell_type": "code",
   "execution_count": 19,
   "metadata": {},
   "outputs": [],
   "source": [
    "n_trees = 1\n",
    "my_forest_1 = random_forest(train_data, train_labels, n_trees)"
   ]
  },
  {
   "cell_type": "code",
   "execution_count": 20,
   "metadata": {},
   "outputs": [],
   "source": [
    "# Получим ответы для обучающей выборки \n",
    "train_answers = tree_vote(my_forest_1, train_data)\n",
    "# И получим ответы для тестовой выборки\n",
    "test_answers = tree_vote(my_forest_1, test_data)"
   ]
  },
  {
   "cell_type": "code",
   "execution_count": 21,
   "metadata": {},
   "outputs": [
    {
     "name": "stdout",
     "output_type": "stream",
     "text": [
      "Точность случайного леса из 1 деревьев на обучающей выборке: 95.714\n",
      "Точность случайного леса из 1 деревьев на тестовой выборке: 93.333\n"
     ]
    }
   ],
   "source": [
    "# Точность на обучающей выборке\n",
    "train_accuracy = accuracy_metric(train_labels, train_answers)\n",
    "print(f'Точность случайного леса из {n_trees} деревьев на обучающей выборке: {train_accuracy:.3f}')\n",
    "# Точность на тестовой выборке\n",
    "test_accuracy = accuracy_metric(test_labels, test_answers)\n",
    "print(f'Точность случайного леса из {n_trees} деревьев на тестовой выборке: {test_accuracy:.3f}')"
   ]
  },
  {
   "cell_type": "code",
   "execution_count": 22,
   "metadata": {},
   "outputs": [
    {
     "data": {
      "text/plain": [
       "Text(0.5, 1.0, 'Test accuracy=93.33')"
      ]
     },
     "execution_count": 22,
     "metadata": {},
     "output_type": "execute_result"
    },
    {
     "data": {
      "image/png": "[encoded data removed]",
      "text/plain": [
       "<Figure size 1152x504 with 2 Axes>"
      ]
     },
     "metadata": {
      "needs_background": "light"
     },
     "output_type": "display_data"
    }
   ],
   "source": [
    "# Визуализируем дерево на графике\n",
    "def get_meshgrid(data, step=.05, border=1.2):\n",
    "    x_min, x_max = data[:, 0].min() - border, data[:, 0].max() + border\n",
    "    y_min, y_max = data[:, 1].min() - border, data[:, 1].max() + border\n",
    "    return np.meshgrid(np.arange(x_min, x_max, step), np.arange(y_min, y_max, step))\n",
    "\n",
    "plt.figure(figsize = (16, 7))\n",
    "\n",
    "# график обучающей выборки\n",
    "plt.subplot(1,2,1)\n",
    "xx, yy = get_meshgrid(train_data)\n",
    "vote = np.array(tree_vote(my_forest_1, np.c_[xx.ravel(), yy.ravel()])).reshape(xx.shape)\n",
    "plt.pcolormesh(xx, yy, vote, cmap = light_colors)\n",
    "plt.scatter(train_data[:, 0], train_data[:, 1], c = train_labels, cmap = colors)\n",
    "plt.title(f'Train accuracy={train_accuracy:.2f}')\n",
    "\n",
    "# график тестовой выборки\n",
    "plt.subplot(1,2,2)\n",
    "plt.pcolormesh(xx, yy, vote, cmap = light_colors)\n",
    "plt.scatter(test_data[:, 0], test_data[:, 1], c = test_labels, cmap = colors)\n",
    "plt.title(f'Test accuracy={test_accuracy:.2f}')"
   ]
  },
  {
   "cell_type": "code",
   "execution_count": 23,
   "metadata": {},
   "outputs": [],
   "source": [
    "n_trees = 3\n",
    "my_forest_3 = random_forest(train_data, train_labels, n_trees)"
   ]
  },
  {
   "cell_type": "code",
   "execution_count": 24,
   "metadata": {},
   "outputs": [
    {
     "name": "stdout",
     "output_type": "stream",
     "text": [
      "Точность случайного леса из 3 деревьев на обучающей выборке: 94.286\n",
      "Точность случайного леса из 3 деревьев на тестовой выборке: 96.667\n"
     ]
    }
   ],
   "source": [
    "# Получим ответы для обучающей выборки \n",
    "train_answers = tree_vote(my_forest_3, train_data)\n",
    "# И получим ответы для тестовой выборки\n",
    "test_answers = tree_vote(my_forest_3, test_data)\n",
    "# Точность на обучающей выборке\n",
    "train_accuracy = accuracy_metric(train_labels, train_answers)\n",
    "print(f'Точность случайного леса из {n_trees} деревьев на обучающей выборке: {train_accuracy:.3f}')\n",
    "# Точность на тестовой выборке\n",
    "test_accuracy = accuracy_metric(test_labels, test_answers)\n",
    "print(f'Точность случайного леса из {n_trees} деревьев на тестовой выборке: {test_accuracy:.3f}')"
   ]
  },
  {
   "cell_type": "code",
   "execution_count": 25,
   "metadata": {},
   "outputs": [
    {
     "data": {
      "text/plain": [
       "Text(0.5, 1.0, 'Test accuracy=96.67')"
      ]
     },
     "execution_count": 25,
     "metadata": {},
     "output_type": "execute_result"
    },
    {
     "data": {
      "image/png": "[encoded data removed]",
      "text/plain": [
       "<Figure size 1152x504 with 2 Axes>"
      ]
     },
     "metadata": {
      "needs_background": "light"
     },
     "output_type": "display_data"
    }
   ],
   "source": [
    "plt.figure(figsize = (16, 7))\n",
    "\n",
    "# график обучающей выборки\n",
    "plt.subplot(1,2,1)\n",
    "xx, yy = get_meshgrid(train_data)\n",
    "vote = np.array(tree_vote(my_forest_3, np.c_[xx.ravel(), yy.ravel()])).reshape(xx.shape)\n",
    "plt.pcolormesh(xx, yy, vote, cmap = light_colors)\n",
    "plt.scatter(train_data[:, 0], train_data[:, 1], c = train_labels, cmap = colors)\n",
    "plt.title(f'Train accuracy={train_accuracy:.2f}')\n",
    "\n",
    "# график тестовой выборки\n",
    "plt.subplot(1,2,2)\n",
    "plt.pcolormesh(xx, yy, vote, cmap = light_colors)\n",
    "plt.scatter(test_data[:, 0], test_data[:, 1], c = test_labels, cmap = colors)\n",
    "plt.title(f'Test accuracy={test_accuracy:.2f}')"
   ]
  },
  {
   "cell_type": "code",
   "execution_count": 26,
   "metadata": {},
   "outputs": [],
   "source": [
    "n_trees = 10\n",
    "my_forest_10 = random_forest(train_data, train_labels, n_trees)"
   ]
  },
  {
   "cell_type": "code",
   "execution_count": 27,
   "metadata": {},
   "outputs": [
    {
     "name": "stdout",
     "output_type": "stream",
     "text": [
      "Точность случайного леса из 10 деревьев на обучающей выборке: 95.714\n",
      "Точность случайного леса из 10 деревьев на тестовой выборке: 96.667\n"
     ]
    }
   ],
   "source": [
    "# Получим ответы для обучающей выборки \n",
    "train_answers = tree_vote(my_forest_10, train_data)\n",
    "# И получим ответы для тестовой выборки\n",
    "test_answers = tree_vote(my_forest_10, test_data)\n",
    "# Точность на обучающей выборке\n",
    "train_accuracy = accuracy_metric(train_labels, train_answers)\n",
    "print(f'Точность случайного леса из {n_trees} деревьев на обучающей выборке: {train_accuracy:.3f}')\n",
    "# Точность на тестовой выборке\n",
    "test_accuracy = accuracy_metric(test_labels, test_answers)\n",
    "print(f'Точность случайного леса из {n_trees} деревьев на тестовой выборке: {test_accuracy:.3f}')"
   ]
  },
  {
   "cell_type": "code",
   "execution_count": 28,
   "metadata": {},
   "outputs": [
    {
     "data": {
      "text/plain": [
       "Text(0.5, 1.0, 'Test accuracy=96.67')"
      ]
     },
     "execution_count": 28,
     "metadata": {},
     "output_type": "execute_result"
    },
    {
     "data": {
      "image/png": "[encoded data removed]",
      "text/plain": [
       "<Figure size 1152x504 with 2 Axes>"
      ]
     },
     "metadata": {
      "needs_background": "light"
     },
     "output_type": "display_data"
    }
   ],
   "source": [
    "plt.figure(figsize = (16, 7))\n",
    "\n",
    "# график обучающей выборки\n",
    "plt.subplot(1,2,1)\n",
    "xx, yy = get_meshgrid(train_data)\n",
    "vote = np.array(tree_vote(my_forest_10, np.c_[xx.ravel(), yy.ravel()])).reshape(xx.shape)\n",
    "plt.pcolormesh(xx, yy, vote, cmap = light_colors)\n",
    "plt.scatter(train_data[:, 0], train_data[:, 1], c = train_labels, cmap = colors)\n",
    "plt.title(f'Train accuracy={train_accuracy:.2f}')\n",
    "\n",
    "# график тестовой выборки\n",
    "plt.subplot(1,2,2)\n",
    "plt.pcolormesh(xx, yy, vote, cmap = light_colors)\n",
    "plt.scatter(test_data[:, 0], test_data[:, 1], c = test_labels, cmap = colors)\n",
    "plt.title(f'Test accuracy={test_accuracy:.2f}')"
   ]
  },
  {
   "cell_type": "code",
   "execution_count": 29,
   "metadata": {},
   "outputs": [],
   "source": [
    "n_trees = 50\n",
    "my_forest_50 = random_forest(train_data, train_labels, n_trees)"
   ]
  },
  {
   "cell_type": "code",
   "execution_count": 30,
   "metadata": {},
   "outputs": [
    {
     "name": "stdout",
     "output_type": "stream",
     "text": [
      "Точность случайного леса из 50 деревьев на обучающей выборке: 97.143\n",
      "Точность случайного леса из 50 деревьев на тестовой выборке: 96.667\n"
     ]
    }
   ],
   "source": [
    "# Получим ответы для обучающей выборки \n",
    "train_answers = tree_vote(my_forest_50, train_data)\n",
    "# И получим ответы для тестовой выборки\n",
    "test_answers = tree_vote(my_forest_50, test_data)\n",
    "# Точность на обучающей выборке\n",
    "train_accuracy = accuracy_metric(train_labels, train_answers)\n",
    "print(f'Точность случайного леса из {n_trees} деревьев на обучающей выборке: {train_accuracy:.3f}')\n",
    "# Точность на тестовой выборке\n",
    "test_accuracy = accuracy_metric(test_labels, test_answers)\n",
    "print(f'Точность случайного леса из {n_trees} деревьев на тестовой выборке: {test_accuracy:.3f}')"
   ]
  },
  {
   "cell_type": "code",
   "execution_count": 31,
   "metadata": {},
   "outputs": [
    {
     "data": {
      "text/plain": [
       "Text(0.5, 1.0, 'Test accuracy=96.67')"
      ]
     },
     "execution_count": 31,
     "metadata": {},
     "output_type": "execute_result"
    },
    {
     "data": {
      "image/png": "[encoded data removed]",
      "text/plain": [
       "<Figure size 1152x504 with 2 Axes>"
      ]
     },
     "metadata": {
      "needs_background": "light"
     },
     "output_type": "display_data"
    }
   ],
   "source": [
    "plt.figure(figsize = (16, 7))\n",
    "\n",
    "# график обучающей выборки\n",
    "plt.subplot(1,2,1)\n",
    "xx, yy = get_meshgrid(train_data)\n",
    "vote = np.array(tree_vote(my_forest_50, np.c_[xx.ravel(), yy.ravel()])).reshape(xx.shape)\n",
    "plt.pcolormesh(xx, yy, vote, cmap = light_colors)\n",
    "plt.scatter(train_data[:, 0], train_data[:, 1], c = train_labels, cmap = colors)\n",
    "plt.title(f'Train accuracy={train_accuracy:.2f}')\n",
    "\n",
    "# график тестовой выборки\n",
    "plt.subplot(1,2,2)\n",
    "plt.pcolormesh(xx, yy, vote, cmap = light_colors)\n",
    "plt.scatter(test_data[:, 0], test_data[:, 1], c = test_labels, cmap = colors)\n",
    "plt.title(f'Test accuracy={test_accuracy:.2f}')"
   ]
  },
  {
   "cell_type": "markdown",
   "metadata": {},
   "source": [
    " 2. Сделать выводы о получаемой сложности гиперплоскости и недообучении или переобучении случайного леса в зависимости от количества деревьев в нем."
   ]
  },
  {
   "cell_type": "markdown",
   "metadata": {},
   "source": [
    "Чем больше деревьев, тем сложнее получается разделяющая гиперплоскость. На маленьком колчиестве деревьев возможно недообучение, с увеличением количества деревьев метрика в какой-то момент перестает возрастать, но переобучения не происходит."
   ]
  },
  {
   "cell_type": "markdown",
   "metadata": {},
   "source": [
    " 3*. Заменить в реализованном алгоритме проверку с помощью отложенной выборки на Out-of-Bag."
   ]
  },
  {
   "cell_type": "code",
   "execution_count": 32,
   "metadata": {},
   "outputs": [],
   "source": [
    "# перепишем функцию get_bootstrap:\n",
    "def get_bootstrap(data, labels, N):\n",
    "    # N - количество деревьев\n",
    "    n_samples = data.shape[0]\n",
    "    bootstrap = []\n",
    "    indexes = []\n",
    "#    oob_sample = []\n",
    "    \n",
    "    for i in range(N):\n",
    "        sample_indexes = []\n",
    "#        oob_indexes = [_ for _ in range(n_samples)] #создаем список со всеми индексами\n",
    "        b_data = np.zeros(data.shape)\n",
    "        b_labels = np.zeros(labels.shape)\n",
    "        \n",
    "        for j in range(n_samples):\n",
    "            sample_index = random.randint(0, n_samples-1)\n",
    "            b_data[j] = data[sample_index]\n",
    "            b_labels[j] = labels[sample_index]\n",
    "            sample_indexes.append(sample_index)\n",
    "#            oob_indexes.remove(sample_index) #удаляем индексы, которые участвуют в дереве\n",
    "        indexes.append(sample_indexes)\n",
    "        bootstrap.append((b_data, b_labels))\n",
    "#        oob_sample.append(oob_indexes)\n",
    "        \n",
    "    #return bootstrap, oob_sample, indexes\n",
    "    return bootstrap, indexes"
   ]
  },
  {
   "cell_type": "code",
   "execution_count": 33,
   "metadata": {},
   "outputs": [],
   "source": [
    "def oob_score(data, labels, indexes, forest):\n",
    "    predictions = []\n",
    "    actual = []\n",
    "    for i in range(data.shape[0]):\n",
    "        index_tree = []\n",
    "        for idx, tree in enumerate(indexes):\n",
    "            if i not in tree:\n",
    "                index_tree.append(idx)\n",
    "        if len(index_tree) != 0:\n",
    "            new_forest = [forest[k] for k in index_tree]\n",
    "            predictions.append(tree_vote(new_forest, [data[i]])[0])\n",
    "            actual.append(labels[i])\n",
    "    return accuracy_metric(actual, predictions) "
   ]
  },
  {
   "cell_type": "code",
   "execution_count": 34,
   "metadata": {},
   "outputs": [],
   "source": [
    "# формирование случайного леса:\n",
    "def random_forest(data, labels, n_trees):\n",
    "    forest = []\n",
    "    bootstrap, indexes = get_bootstrap(data, labels, n_trees)\n",
    "    \n",
    "    for b_data, b_labels in bootstrap:\n",
    "        forest.append(build_tree(b_data, b_labels))\n",
    "        \n",
    "    return forest, indexes"
   ]
  },
  {
   "cell_type": "code",
   "execution_count": 35,
   "metadata": {},
   "outputs": [],
   "source": [
    "n_trees = 3\n",
    "my_forest, my_indexes = random_forest(classification_data, classification_labels, n_trees)"
   ]
  },
  {
   "cell_type": "code",
   "execution_count": 36,
   "metadata": {},
   "outputs": [
    {
     "data": {
      "text/plain": [
       "95.83333333333334"
      ]
     },
     "execution_count": 36,
     "metadata": {},
     "output_type": "execute_result"
    }
   ],
   "source": [
    "oob_score(classification_data, classification_labels, my_indexes, my_forest)"
   ]
  },
  {
   "cell_type": "markdown",
   "metadata": {},
   "source": [
    " 4*. (На повторение) Переписать функцию calc_gini из урока про решающие деревья так, чтобы в качестве критерия использовалась энтропия Шэннона. Переименовать функцию в calc_entropy."
   ]
  },
  {
   "cell_type": "code",
   "execution_count": 37,
   "metadata": {},
   "outputs": [],
   "source": [
    "def calc_entropy(x, y, t):\n",
    "    qty_all = len(y)\n",
    "    qty_left = len(y[x < t])\n",
    "    qty_right = qty_all - qty_left\n",
    "\n",
    "    # энтропийный критерий не будет равен бесконечности в таком случае,\n",
    "    # но и считать его особо смысла нет, т.к. получается только одна ветвь\n",
    "    if qty_left == 0 or qty_right == 0:\n",
    "        return np.inf\n",
    "\n",
    "    qty0_left = ((y[x < t]) == 0).sum()\n",
    "    qty0_right = ((y[x >= t]) == 0).sum()\n",
    "\n",
    "    p0_left = qty0_left / qty_left\n",
    "    p1_left = 1 - p0_left\n",
    "\n",
    "    p0_right = qty0_right / qty_right\n",
    "    p1_right = 1 - p0_right\n",
    "\n",
    "    # Нормировочный коэффициент для левого листа\n",
    "    left_coef = qty_left / qty_all\n",
    "\n",
    "    # энтропийный критерий для левого листа\n",
    "    h_left = p0_left * log2(p0_left) + p1_left * log2(p1_left)\n",
    "    # энтропийный критерий для правого листа\n",
    "    h_right = p0_right * log2(p0_right) + p1_right * log2(p1_right)\n",
    "\n",
    "    res = -(left_coef * h_left + (1 - left_coef) * h_right)\n",
    "    return res"
   ]
  },
  {
   "cell_type": "code",
   "execution_count": 38,
   "metadata": {},
   "outputs": [],
   "source": [
    "# Расчет энтропии Шеннона\n",
    "\n",
    "def shennon(labels):\n",
    "    #  подсчет количества объектов разных классов\n",
    "    classes = {}\n",
    "    for label in labels:\n",
    "        if label not in classes:\n",
    "            classes[label] = 0\n",
    "        classes[label] += 1\n",
    "    \n",
    "    #  расчет критерия\n",
    "    impurity = 0\n",
    "    for label in classes:\n",
    "        p = classes[label] / len(labels)\n",
    "        impurity -= p*log2(p)\n",
    "        \n",
    "    return impurity, classes"
   ]
  },
  {
   "cell_type": "code",
   "execution_count": null,
   "metadata": {},
   "outputs": [],
   "source": []
  }
 ],
 "metadata": {
  "kernelspec": {
   "display_name": "Python 3",
   "language": "python",
   "name": "python3"
  },
  "language_info": {
   "codemirror_mode": {
    "name": "ipython",
    "version": 3
   },
   "file_extension": ".py",
   "mimetype": "text/x-python",
   "name": "python",
   "nbconvert_exporter": "python",
   "pygments_lexer": "ipython3",
   "version": "3.7.6"
  }
 },
 "nbformat": 4,
 "nbformat_minor": 4
}
